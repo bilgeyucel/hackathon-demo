{
 "cells": [
  {
   "cell_type": "code",
   "execution_count": null,
   "metadata": {},
   "outputs": [],
   "source": [
    "%%bash\n",
    "\n",
    "pip install haystack-ai\n",
    "pip install datasets"
   ]
  },
  {
   "cell_type": "code",
   "execution_count": 3,
   "metadata": {},
   "outputs": [],
   "source": [
    "import os\n",
    "from getpass import getpass\n",
    "\n",
    "openai_api_key = os.getenv(\"OPENAI_API_KEY\", None) or getpass(\"Enter OpenAI API key:\")"
   ]
  },
  {
   "cell_type": "code",
   "execution_count": 21,
   "metadata": {},
   "outputs": [],
   "source": [
    "from haystack.preview import Document\n",
    "from datasets import load_dataset\n",
    "\n",
    "dataset = load_dataset(\"bilgeyucel/seven-wonders\", split=\"train\")\n",
    "docs = [Document(text = doc['content'], metadata={\"title\": doc[\"meta\"][\"url\"] + \"-\" + str(doc[\"meta\"][\"_split_id\"])}) for doc in dataset]"
   ]
  },
  {
   "cell_type": "code",
   "execution_count": 22,
   "metadata": {},
   "outputs": [],
   "source": [
    "from haystack.preview.document_stores import MemoryDocumentStore\n",
    "\n",
    "document_store = MemoryDocumentStore(embedding_similarity_function=\"cosine\")\n",
    "document_store.write_documents(docs)"
   ]
  },
  {
   "cell_type": "code",
   "execution_count": 23,
   "metadata": {},
   "outputs": [
    {
     "data": {
      "text/plain": [
       "151"
      ]
     },
     "execution_count": 23,
     "metadata": {},
     "output_type": "execute_result"
    }
   ],
   "source": [
    "document_store.count_documents()"
   ]
  },
  {
   "cell_type": "code",
   "execution_count": 7,
   "metadata": {},
   "outputs": [],
   "source": [
    "from haystack.preview import component\n",
    "\n",
    "@component\n",
    "class PromptInspector:\n",
    "    \"\"\" Inspector for a prompt \"\"\"\n",
    "\n",
    "    @component.output_types(contents=str)\n",
    "    def run(self, prompt: str):\n",
    "        return {\"prompt\": prompt}"
   ]
  },
  {
   "cell_type": "code",
   "execution_count": 24,
   "metadata": {},
   "outputs": [
    {
     "data": {
      "text/plain": [
       "Document(id='4f16c32027c50c8d6fd2614469cae66cfd9b660d5fe8ad60929464aeaa9a4d6b', text='The remains were described briefly by Strabo (64 or 63\\xa0BC – c. 24\\xa0AD), in his work Geography (Book XIV, Chapter 2.5). Strabo was a Greek geographer, philosopher, and historian who lived in Asia Minor during the transitional period of the Roman Republic into the Roman Empire.\\nStrabo is best known for his work Geographica (\"Geography\"), which presented a descriptive history of people and places from different regions of the world known during his lifetime.[20] Strabo states that:\\n\\nThe city of the Rhodians lies on the eastern promontory of Rhodes; and it is so far superior to all others in harbours and roads and walls and improvements in general that I am unable to speak of any other city as equal to it, or even as almost equal to it, much less superior to it. ', array=None, dataframe=None, blob=None, mime_type='text/plain', metadata={'title': 'https://en.wikipedia.org/wiki/Colossus_of_Rhodes-6'}, id_hash_keys=['text', 'array', 'dataframe', 'blob'], score=None)"
      ]
     },
     "execution_count": 24,
     "metadata": {},
     "output_type": "execute_result"
    }
   ],
   "source": [
    "docs[6]"
   ]
  },
  {
   "cell_type": "code",
   "execution_count": 32,
   "metadata": {},
   "outputs": [],
   "source": [
    "haystack_prompt = \"\"\"\n",
    "You are a helpful expert. \\\n",
    "Your answers are short and to the point. \\\n",
    "You must only use information from the given documents. \\\n",
    "Use an unbiased and journalistic tone. \\ \n",
    "Do not repeat text. \\\n",
    "Always use references in the form [Source: NAME OF DOCUMENT] when using information from a document. e.g. [Source: 3], for Document[3]. \\\n",
    "The reference must only refer to the name that comes in square brackets after passage. \\\n",
    "If multiple documents are used to generate the answer, combine the names of these documents. e.g. [Source: 5, 8], for Document[5], Document[8]. \\\n",
    "Otherwise, do not use brackets in your answer and reference ONLY the name of the passage without mentioning the word passage. \\\n",
    "If the documents can't answer the question or you are unsure say: 'The answer cannot be found in the text directly, but I would recommend consulting [Source: X] for more information', pointing the user to the most relevant document. \\\n",
    "{new_line}\\\n",
    "These are the documents:\\ \n",
    "\n",
    "{% for doc in documents %}\n",
    "[Source: {{ doc.metadata.title }}]:\n",
    "{{ doc.text }}\n",
    "{% endfor %}\\\n",
    "\n",
    "{new_line}\\\n",
    "Question: {{question}}\\\n",
    "{new_line}\\\n",
    "Answer:\\\n",
    "{new_line}\n",
    "\"\"\""
   ]
  },
  {
   "cell_type": "code",
   "execution_count": 33,
   "metadata": {},
   "outputs": [],
   "source": [
    "from haystack.preview import Pipeline\n",
    "from haystack.preview.components.retrievers import MemoryBM25Retriever\n",
    "from haystack.preview.components.generators.openai.gpt4 import GPT4Generator\n",
    "from haystack.preview.components.builders.answer_builder import AnswerBuilder\n",
    "from haystack.preview.components.builders.prompt_builder import PromptBuilder\n",
    "\n",
    "pipeline = Pipeline()\n",
    "pipeline.add_component(instance=MemoryBM25Retriever(document_store=document_store), name=\"retriever\")\n",
    "pipeline.add_component(instance=PromptBuilder(template=haystack_prompt), name=\"prompt_builder\")\n",
    "pipeline.add_component(instance=PromptInspector(), name=\"prompt_inspector\")\n",
    "pipeline.add_component(instance=GPT4Generator(api_key=openai_api_key), name=\"llm\")\n",
    "pipeline.add_component(instance=AnswerBuilder(), name=\"answer_builder\")\n",
    "pipeline.connect(\"retriever\", \"prompt_builder.documents\")\n",
    "pipeline.connect(\"prompt_builder\", \"llm\")\n",
    "pipeline.connect(\"prompt_builder\", \"prompt_inspector\")\n",
    "pipeline.connect(\"llm.replies\", \"answer_builder.replies\")\n",
    "pipeline.connect(\"llm.metadata\", \"answer_builder.metadata\")\n",
    "pipeline.connect(\"retriever\", \"answer_builder.documents\")"
   ]
  },
  {
   "attachments": {},
   "cell_type": "markdown",
   "metadata": {},
   "source": [
    "![](./hackathon-demo.png)"
   ]
  },
  {
   "cell_type": "code",
   "execution_count": 40,
   "metadata": {},
   "outputs": [
    {
     "name": "stderr",
     "output_type": "stream",
     "text": [
      "Ranking by BM25...: 100%|██████████| 151/151 [00:00<00:00, 33988.40 docs/s]\n"
     ]
    },
    {
     "name": "stdout",
     "output_type": "stream",
     "text": [
      "\n",
      "You are a helpful expert. Your answers are short and to the point. You must only use information from the given documents. Use an unbiased and journalistic tone. \\ \n",
      "Do not repeat text. Always use references in the form [Source: NAME OF DOCUMENT] when using information from a document. e.g. [Source: 3], for Document[3]. The reference must only refer to the name that comes in square brackets after passage. If multiple documents are used to generate the answer, combine the names of these documents. e.g. [Source: 5, 8], for Document[5], Document[8]. Otherwise, do not use brackets in your answer and reference ONLY the name of the passage without mentioning the word passage. If the documents can't answer the question or you are unsure say: 'The answer cannot be found in the text directly, but I would recommend consulting [Source: X] for more information', pointing the user to the most relevant document. {new_line}These are the documents:\\ \n",
      "\n",
      "\n",
      "[Source: https://en.wikipedia.org/wiki/Great_Pyramid_of_Giza-14]:\n",
      "Diodorus's work was inspired by historians of the past, but he also distanced himself from Herodotus, who Diodorus claims tells marvelous tales and myths.[53] Diodorus presumably drew his knowledge from the lost work of Hecataeus of Abdera,[54] and like Herodotus, he also places the builder of the pyramid, \"Chemmis,\"[55] after Ramses III.[46] According to his report, neither Chemmis (Khufu) nor Cephren (Khafre) were buried in their pyramids, but rather in secret places, for fear that the people ostensibly forced to build the structures would seek out the bodies for revenge.[56] With this assertion, Diodorus strengthened the connection between pyramid building and slavery.[57]\n",
      "According to Diodorus, the cladding of the pyramid was still in excellent condition at the time, whereas the uppermost part of the pyramid was formed by a platform 6 cubits (3.1 m; 10.3 ft) high. About the construction of the pyramid he notes that it was built with the help of ramps since no lifting tools had yet been invented. Nothing was left of the ramps, as they were removed after the pyramids were completed. \n",
      "\n",
      "[Source: https://en.wikipedia.org/wiki/Great_Pyramid_of_Giza-12]:\n",
      "Accordingly, his explanations present themselves as a mixture of comprehensible descriptions, personal descriptions, erroneous reports, and fantastical legends; as a result, many of the speculative errors and confusions about the monument can be traced back to Herodotus and his work.[44][45]\n",
      "Herodotus writes that the Great Pyramid was built by Khufu (Hellenized as Cheops) who, he erroneously relays, ruled after the Ramesside Period (the 19th dynasty and the 20th dynasty).[46] Khufu was a tyrannical king, Herodotus claims, which may explain the Greek's view that such buildings can only come about through cruel exploitation of the people.[44] Herodotus states that gangs of 100,000 labourers worked on the building in three-month shifts, taking 20 years to build. In the first ten years a wide causeway was erected, which, according to Herodotus, was almost as impressive as the construction of the pyramids themselves. It measured nearly 1 kilometre (0.62 mi) long and 20 yards (18.3 m) wide, and elevated to a height of 16 yards (14.6 m), consisting of stone polished and carved with figures.[47]\n",
      "Underground chambers were made on the hill whereon the pyramids stand. \n",
      "\n",
      "[Source: https://en.wikipedia.org/wiki/Colossus_of_Rhodes-12]:\n",
      "References to this conception are also found in literary works. William Shakespeare's Cassius in Julius Caesar (I, ii, 136–38) says of Caesar:\n",
      "\n",
      "Why man, he doth bestride the narrow world\n",
      "Like a Colossus, and we petty men\n",
      "Walk under his huge legs and peep about\n",
      "To find ourselves dishonourable graves\n",
      "\n",
      "Shakespeare alludes to the Colossus also in Troilus and Cressida (V.5) and in Henry IV, Part 1 (V.1).\n",
      "\"The New Colossus\" (1883), a sonnet by Emma Lazarus written on a cast bronze plaque and mounted inside the pedestal of the Statue of Liberty in 1903, contrasts the latter with:\n",
      "\n",
      "The brazen giant of Greek fame\n",
      "with conquering limbs astride from land to land\n",
      "\n",
      "While these fanciful images feed the misconception, the mechanics of the situation reveal that the Colossus could not have straddled the harbour as described in Lemprière's Classical Dictionary. If the completed statue had straddled the harbour, the entire mouth of the harbour would have been effectively closed during the entirety of the construction, and the ancient Rhodians did not have the means to dredge and re-open the harbour after construction. \n",
      "\n",
      "[Source: https://en.wikipedia.org/wiki/Hanging_Gardens_of_Babylon-2]:\n",
      "These writers concern themselves with the size of the Hanging Gardens, their overall design and means of irrigation, and why they were built.\n",
      "Josephus (c. 37–100 AD) quotes a description of the gardens by Berossus, a Babylonian priest of Marduk,[6] whose writing c. 290 BC is the earliest known mention of the gardens.[5] Berossus described the reign of Nebuchadnezzar II and is the only source to credit that king with the construction of the Hanging Gardens.[12][13]\n",
      "\n",
      ".mw-parser-output .templatequote{overflow:hidden;margin:1em 0;padding:0 40px}.mw-parser-output .templatequote .templatequotecite{line-height:1.5em;text-align:left;padding-left:1.6em;margin-top:0}In this palace he erected very high walls, supported by stone pillars; and by planting what was called a pensile paradise, and replenishing it with all sorts of trees, he rendered the prospect an exact resemblance of a mountainous country. This he did to gratify his queen, because she had been brought up in Media, and was fond of a mountainous situation.[14]\n",
      "Hanging gardens of Semiramis, by H. Waldeck\n",
      "Diodorus Siculus (active c. 60–30 BC) seems to have consulted the 4th century BC texts of both Cleitarchus (a historian of Alexander the Great) and Ctesias of Cnidus. Diodorus ascribes the construction to a Syrian king. \n",
      "\n",
      "[Source: https://en.wikipedia.org/wiki/Great_Pyramid_of_Giza-62]:\n",
      "[202]\n",
      "\n",
      "Looting\n",
      "Authors Bob Brier and Hoyt Hobbs claim that \"all the pyramids were robbed\" by the New Kingdom, when the construction of royal tombs in the Valley of the Kings began.[203][204] Joyce Tyldesley states that the Great Pyramid itself \"is known to have been opened and emptied by the Middle Kingdom\", before the Arab caliph Al-Ma'mun entered the pyramid around 820 AD.[136]\n",
      "I. E. S. Edwards discusses Strabo's mention that the pyramid \"a little way up one side has a stone that may be taken out, which being raised up there is a sloping passage to the foundations\". Edwards suggested that the pyramid was entered by robbers after the end of the Old Kingdom and sealed and then reopened more than once until Strabo's door was added. He adds: \"If this highly speculative surmise be correct, it is also necessary to assume either that the existence of the door was forgotten or that the entrance was again blocked with facing stones\", in order to explain why al-Ma'mun could not find the entrance.\n",
      "\n",
      "[Source: https://en.wikipedia.org/wiki/Colossus_of_Rhodes-0]:\n",
      "The Colossus of Rhodes (Ancient Greek: ὁ Κολοσσὸς Ῥόδιος, romanized: ho Kolossòs Rhódios Greek: Κολοσσός της Ρόδου, romanized: Kolossós tes Rhódou)[a] was a statue of the Greek sun-god Helios, erected in the city of Rhodes, on the Greek island of the same name, by Chares of Lindos in 280 BC. One of the Seven Wonders of the Ancient World, it was constructed to celebrate the successful defence of Rhodes city against an attack by Demetrius Poliorcetes, who had besieged it for a year with a large army and navy.\n",
      "According to most contemporary descriptions, the Colossus stood approximately 70 cubits, or 33 metres (108 feet) high – approximately the height of the modern Statue of Liberty from feet to crown – making it the tallest statue in the ancient world.[2] It collapsed during the earthquake of 226 BC, although parts of it were preserved. In accordance with a certain oracle, the Rhodians did not build it again.[3] John Malalas wrote that Hadrian in his reign re-erected the Colossus,[4] but he was mistaken.[5] According to the Suda, the Rhodians were called Colossaeans (Κολοσσαεῖς), because they erected the statue on the island.\n",
      "\n",
      "[Source: https://en.wikipedia.org/wiki/Colossus_of_Rhodes-7]:\n",
      "It is remarkable also for its good order, and for its careful attention to the administration of affairs of state in general; and in particular to that of naval affairs, whereby it held the mastery of the sea for a long time and overthrew the business of piracy, and became a friend to the Romans and to all kings who favoured both the Romans and the Greeks. Consequently, it not only has remained autonomous but also has been adorned with many votive offerings, which for the most part are to be found in the Dionysium and the gymnasium, but partly in other places. The best of these are, first, the Colossus of Helius, of which the author of the iambic verse says, \"seven times ten cubits in height, the work of Chares the Lindian\"; but it now lies on the ground, having been thrown down by an earthquake and broken at the knees. In accordance with a certain oracle, the people did not raise it again. This, then, is the most excellent of the votive offerings (at any rate, it is by common agreement one of the Seven Wonders).\n",
      "\n",
      "[Source: https://en.wikipedia.org/wiki/Colossus_of_Rhodes-5]:\n",
      "To you, O Sun, the people of Dorian Rhodes set up this bronze statue reaching to Olympus, when they had pacified the waves of war and crowned their city with the spoils taken from the enemy. Not only over the seas but also on land did they kindle the lovely torch of freedom and independence. For to the descendants of Herakles belongs dominion over sea and land.\n",
      "Collapse (226 BC)[edit]\n",
      "Artist's conception from the Grolier Society's 1911 Book of Knowledge\n",
      "Further information: 226 BC Rhodes earthquake\n",
      "The statue stood for 54 years until a 226 BC earthquake caused significant damage to large portions of Rhodes, including the harbour and commercial buildings, which were destroyed.[19] The statue snapped at the knees and fell over onto land. Ptolemy III offered to pay for the reconstruction of the statue, but the Oracle of Delphi made the Rhodians fear that they had offended Helios, and they declined to rebuild it.[citation needed]\n",
      "\n",
      "Fallen state (226 BC to 653 AD)[edit]\n",
      "The remains lay on the ground for over 800 years, and even broken, they were so impressive that many travelled to see them.\n",
      "\n",
      "\n",
      "[Source: https://en.wikipedia.org/wiki/Great_Pyramid_of_Giza-25]:\n",
      "[91]\n",
      "A construction management study conducted in 1999, in association with Mark Lehner and other Egyptologists, had estimated that the total project required an average workforce of about 13,200 people and a peak workforce of roughly 40,000.[92]\n",
      "\n",
      "Surveys and design\n",
      "Comparison of approximate profiles of the Great Pyramid of Giza with some notable pyramidal or near-pyramidal buildings. Dotted lines indicate original heights, where data is available. In its SVG file, hover over a pyramid to highlight and click for its article.\n",
      "The first precise measurements of the pyramid were made by Egyptologist Flinders Petrie in 1880–1882, published as The Pyramids and Temples of Gizeh.[93] Many of the casing-stones and inner chamber blocks of the Great Pyramid fit together with high precision, with joints, on average, only 0.5 millimetres (0.020 in) wide.[94] On the contrary, core blocks were only roughly shaped, with rubble inserted between larger gaps. Mortar was used to bind the outer layers together and fill gaps and joints.[6]\n",
      "The block height and weight tends to get progressively smaller towards the top. \n",
      "\n",
      "[Source: https://en.wikipedia.org/wiki/Great_Pyramid_of_Giza-31]:\n",
      "Amidst earthquakes in northern Egypt, workers (perhaps the descendants of those who served Al-Mamun) stripped away many of the outer casing stones,[70] which were said to have been carted away by Bahri Sultan An-Nasir Nasir-ad-Din al-Hasan in 1356 for use in nearby Cairo.[96]\n",
      "Many more casing stones were removed from the site by Muhammad Ali Pasha in the early 19th century to build the upper portion of his Alabaster Mosque in Cairo.[citation needed] Later explorers reported massive piles of rubble at the base of the pyramids left over from the continuing collapse of the casing stones, which were subsequently cleared away during continuing excavations of the site. Today a few of the casing stones from the lowest course can be seen in situ on each side, with the best preserved on the north below the entrances, excavated by Vyse in 1837.\n",
      "The mortar was chemically analyzed[116] and contains organic inclusions (mostly charcoal), samples of which were radiocarbon dated to 2871–2604 BC.[117] It has been theorized that the mortar enabled the masons to set the stones exactly by providing a level bed.\n",
      "\n",
      "{new_line}Question: Why did people build pyramids?{new_line}Answer:{new_line}\n"
     ]
    }
   ],
   "source": [
    "question = \"Why did people build pyramids?\"\n",
    "results = pipeline.run({\n",
    "    \"retriever\": {\"query\": question},\n",
    "    \"prompt_builder\": {\"question\": question},\n",
    "    \"answer_builder\": {\"query\": question}\n",
    "})"
   ]
  },
  {
   "cell_type": "code",
   "execution_count": 31,
   "metadata": {},
   "outputs": [
    {
     "data": {
      "text/plain": [
       "[GeneratedAnswer(data='The Great Pyramid of Giza, for example, was built as a tomb for the king, in this case, Khufu. There is a claim that these monumental structures were built through forced labor or slavery perhaps reflecting the cruel exploitation of the people [Great Pyramid of Giza-12]. The structures were built with great precision and took a significant amount of time and workforce [Great Pyramid of Giza-25]. The builders also took measures to keep the bodies of the kings safe by deciding not to bury the kings in their pyramids but in secret places [Great Pyramid of Giza-14].', query='Why did people build pyramids?', metadata={'model': 'gpt-4-0613', 'index': 0, 'finish_reason': 'stop', 'usage': {'prompt_tokens': 3067, 'completion_tokens': 121, 'total_tokens': 3188}}, documents=[Document(id='3b449d7a3ad22e0e30143e5191ede872ebf325fa6f6a69dd920f9fffcb3218d3', text='Diodorus\\'s work was inspired by historians of the past, but he also distanced himself from Herodotus, who Diodorus claims tells marvelous tales and myths.[53] Diodorus presumably drew his knowledge from the lost work of Hecataeus of Abdera,[54] and like Herodotus, he also places the builder of the pyramid, \"Chemmis,\"[55] after Ramses III.[46] According to his report, neither Chemmis (Khufu) nor Cephren (Khafre) were buried in their pyramids, but rather in secret places, for fear that the people ostensibly forced to build the structures would seek out the bodies for revenge.[56] With this assertion, Diodorus strengthened the connection between pyramid building and slavery.[57]\\nAccording to Diodorus, the cladding of the pyramid was still in excellent condition at the time, whereas the uppermost part of the pyramid was formed by a platform 6\\xa0cubits (3.1\\xa0m; 10.3\\xa0ft) high. About the construction of the pyramid he notes that it was built with the help of ramps since no lifting tools had yet been invented. Nothing was left of the ramps, as they were removed after the pyramids were completed. ', array=None, dataframe=None, blob=None, mime_type='text/plain', metadata={'title': 'https://en.wikipedia.org/wiki/Great_Pyramid_of_Giza-14'}, id_hash_keys=['text', 'array', 'dataframe', 'blob'], score=0.7141158311137608), Document(id='c9e81d7ae46f88afa71b88fd65dcc3257c6034ee7ffcf88e7730a7cf02eda0af', text=\"Accordingly, his explanations present themselves as a mixture of comprehensible descriptions, personal descriptions, erroneous reports, and fantastical legends; as a result, many of the speculative errors and confusions about the monument can be traced back to Herodotus and his work.[44][45]\\nHerodotus writes that the Great Pyramid was built by Khufu (Hellenized as Cheops) who, he erroneously relays, ruled after the Ramesside Period (the 19th dynasty and the 20th dynasty).[46] Khufu was a tyrannical king, Herodotus claims, which may explain the Greek's view that such buildings can only come about through cruel exploitation of the people.[44] Herodotus states that gangs of 100,000 labourers worked on the building in three-month shifts, taking 20 years to build. In the first ten years a wide causeway was erected, which, according to Herodotus, was almost as impressive as the construction of the pyramids themselves. It measured nearly 1 kilometre (0.62\\xa0mi) long and 20 yards (18.3\\xa0m) wide, and elevated to a height of 16 yards (14.6\\xa0m), consisting of stone polished and carved with figures.[47]\\nUnderground chambers were made on the hill whereon the pyramids stand. \", array=None, dataframe=None, blob=None, mime_type='text/plain', metadata={'title': 'https://en.wikipedia.org/wiki/Great_Pyramid_of_Giza-12'}, id_hash_keys=['text', 'array', 'dataframe', 'blob'], score=0.7132787607562651), Document(id='748f3a19f902dfb80e4bbd1efdd107a28e1c9c2ffac9b96264a28ccdc84e2729', text='References to this conception are also found in literary works. William Shakespeare\\'s Cassius in Julius Caesar (I, ii, 136–38) says of Caesar:\\n\\nWhy man, he doth bestride the narrow world\\nLike a Colossus, and we petty men\\nWalk under his huge legs and peep about\\nTo find ourselves dishonourable graves\\n\\nShakespeare alludes to the Colossus also in Troilus and Cressida (V.5) and in Henry IV, Part 1 (V.1).\\n\"The New Colossus\" (1883), a sonnet by Emma Lazarus written on a cast bronze plaque and mounted inside the pedestal of the Statue of Liberty in 1903, contrasts the latter with:\\n\\nThe brazen giant of Greek fame\\nwith conquering limbs astride from land to land\\n\\nWhile these fanciful images feed the misconception, the mechanics of the situation reveal that the Colossus could not have straddled the harbour as described in Lemprière\\'s Classical Dictionary. If the completed statue had straddled the harbour, the entire mouth of the harbour would have been effectively closed during the entirety of the construction, and the ancient Rhodians did not have the means to dredge and re-open the harbour after construction. ', array=None, dataframe=None, blob=None, mime_type='text/plain', metadata={'title': 'https://en.wikipedia.org/wiki/Colossus_of_Rhodes-12'}, id_hash_keys=['text', 'array', 'dataframe', 'blob'], score=0.6828526154248178), Document(id='cac9817ed8f4994a20d1d37d9bee1f1f223814ffcf63e1c584902fc0e4d8f4a2', text='These writers concern themselves with the size of the Hanging Gardens, their overall design and means of irrigation, and why they were built.\\nJosephus (c.\\u200937–100 AD) quotes a description of the gardens by Berossus, a Babylonian priest of Marduk,[6] whose writing c.\\u2009290 BC is the earliest known mention of the gardens.[5] Berossus described the reign of Nebuchadnezzar II and is the only source to credit that king with the construction of the Hanging Gardens.[12][13]\\n\\n.mw-parser-output .templatequote{overflow:hidden;margin:1em 0;padding:0 40px}.mw-parser-output .templatequote .templatequotecite{line-height:1.5em;text-align:left;padding-left:1.6em;margin-top:0}In this palace he erected very high walls, supported by stone pillars; and by planting what was called a pensile paradise, and replenishing it with all sorts of trees, he rendered the prospect an exact resemblance of a mountainous country. This he did to gratify his queen, because she had been brought up in Media, and was fond of a mountainous situation.[14]\\nHanging gardens of Semiramis, by H. Waldeck\\nDiodorus Siculus (active c.\\u200960–30 BC) seems to have consulted the 4th century BC texts of both Cleitarchus (a historian of Alexander the Great) and Ctesias of Cnidus. Diodorus ascribes the construction to a Syrian king. ', array=None, dataframe=None, blob=None, mime_type='text/plain', metadata={'title': 'https://en.wikipedia.org/wiki/Hanging_Gardens_of_Babylon-2'}, id_hash_keys=['text', 'array', 'dataframe', 'blob'], score=0.6737034011022083), Document(id='b999c4bc6d2c2b0d0c761f747cc393a1bad370154dd5eaaadc3888d877f67b55', text='[202]\\n\\nLooting\\nAuthors Bob Brier and Hoyt Hobbs claim that \"all the pyramids were robbed\" by the New Kingdom, when the construction of royal tombs in the Valley of the Kings began.[203][204] Joyce Tyldesley states that the Great Pyramid itself \"is known to have been opened and emptied by the Middle Kingdom\", before the Arab caliph Al-Ma\\'mun entered the pyramid around 820 AD.[136]\\nI. E. S. Edwards discusses Strabo\\'s mention that the pyramid \"a little way up one side has a stone that may be taken out, which being raised up there is a sloping passage to the foundations\". Edwards suggested that the pyramid was entered by robbers after the end of the Old Kingdom and sealed and then reopened more than once until Strabo\\'s door was added. He adds: \"If this highly speculative surmise be correct, it is also necessary to assume either that the existence of the door was forgotten or that the entrance was again blocked with facing stones\", in order to explain why al-Ma\\'mun could not find the entrance.', array=None, dataframe=None, blob=None, mime_type='text/plain', metadata={'title': 'https://en.wikipedia.org/wiki/Great_Pyramid_of_Giza-62'}, id_hash_keys=['text', 'array', 'dataframe', 'blob'], score=0.6574564164067409), Document(id='364e4c86ecc5700f14bf5394f793eda9a9e26387a8a959a01b4ab04e63ff0386', text='The Colossus of Rhodes (Ancient Greek: ὁ Κολοσσὸς Ῥόδιος, romanized:\\xa0ho Kolossòs Rhódios Greek: Κολοσσός της Ρόδου, romanized:\\xa0Kolossós tes Rhódou)[a] was a statue of the Greek sun-god Helios, erected in the city of Rhodes, on the Greek island of the same name, by Chares of Lindos in 280\\xa0BC. One of the Seven Wonders of the Ancient World, it was constructed to celebrate the successful defence of Rhodes city against an attack by Demetrius Poliorcetes, who had besieged it for a year with a large army and navy.\\nAccording to most contemporary descriptions, the Colossus stood approximately 70 cubits, or 33 metres (108 feet) high – approximately the height of the modern Statue of Liberty from feet to crown – making it the tallest statue in the ancient world.[2] It collapsed during the earthquake of 226 BC, although parts of it were preserved. In accordance with a certain oracle, the Rhodians did not build it again.[3] John Malalas wrote that Hadrian in his reign re-erected the Colossus,[4] but he was mistaken.[5] According to the Suda, the Rhodians were called Colossaeans (Κολοσσαεῖς), because they erected the statue on the island.', array=None, dataframe=None, blob=None, mime_type='text/plain', metadata={'title': 'https://en.wikipedia.org/wiki/Colossus_of_Rhodes-0'}, id_hash_keys=['text', 'array', 'dataframe', 'blob'], score=0.6538338436125611), Document(id='7edffe4bc51deba5b54ec0c05f53a4909fc1eb23db6d21a8b4a018b528d5215b', text='It is remarkable also for its good order, and for its careful attention to the administration of affairs of state in general; and in particular to that of naval affairs, whereby it held the mastery of the sea for a long time and overthrew the business of piracy, and became a friend to the Romans and to all kings who favoured both the Romans and the Greeks. Consequently, it not only has remained autonomous but also has been adorned with many votive offerings, which for the most part are to be found in the Dionysium and the gymnasium, but partly in other places. The best of these are, first, the Colossus of Helius, of which the author of the iambic verse says, \"seven times ten cubits in height, the work of Chares the Lindian\"; but it now lies on the ground, having been thrown down by an earthquake and broken at the knees. In accordance with a certain oracle, the people did not raise it again. This, then, is the most excellent of the votive offerings (at any rate, it is by common agreement one of the Seven Wonders).', array=None, dataframe=None, blob=None, mime_type='text/plain', metadata={'title': 'https://en.wikipedia.org/wiki/Colossus_of_Rhodes-7'}, id_hash_keys=['text', 'array', 'dataframe', 'blob'], score=0.653478964264458), Document(id='b405df3a6931dac9208f69592613dec5700e6aaf451a47c9a3eadb5cb4a20f8e', text=\"To you, O Sun, the people of Dorian Rhodes set up this bronze statue reaching to Olympus, when they had pacified the waves of war and crowned their city with the spoils taken from the enemy. Not only over the seas but also on land did they kindle the lovely torch of freedom and independence. For to the descendants of Herakles belongs dominion over sea and land.\\nCollapse (226\\xa0BC)[edit]\\nArtist's conception from the Grolier Society's 1911 Book of Knowledge\\nFurther information: 226 BC Rhodes earthquake\\nThe statue stood for 54 years until a 226\\xa0BC earthquake caused significant damage to large portions of Rhodes, including the harbour and commercial buildings, which were destroyed.[19] The statue snapped at the knees and fell over onto land. Ptolemy III offered to pay for the reconstruction of the statue, but the Oracle of Delphi made the Rhodians fear that they had offended Helios, and they declined to rebuild it.[citation needed]\\n\\nFallen state (226\\xa0BC to 653\\xa0AD)[edit]\\nThe remains lay on the ground for over 800 years, and even broken, they were so impressive that many travelled to see them.\\n\", array=None, dataframe=None, blob=None, mime_type='text/plain', metadata={'title': 'https://en.wikipedia.org/wiki/Colossus_of_Rhodes-5'}, id_hash_keys=['text', 'array', 'dataframe', 'blob'], score=0.6524237402634699), Document(id='993ba0ee8d6917c3e8df2411bc039fc40902223857117a4bd1929ad344177c92', text='[91]\\nA construction management study conducted in 1999, in association with Mark Lehner and other Egyptologists, had estimated that the total project required an average workforce of about 13,200 people and a peak workforce of roughly 40,000.[92]\\n\\nSurveys and design\\nComparison of approximate profiles of the Great Pyramid of Giza with some notable pyramidal or near-pyramidal buildings. Dotted lines indicate original heights, where data is available. In its\\xa0SVG\\xa0file, hover over a pyramid to highlight and click for its article.\\nThe first precise measurements of the pyramid were made by Egyptologist Flinders Petrie in 1880–1882, published as The Pyramids and Temples of Gizeh.[93] Many of the casing-stones and inner chamber blocks of the Great Pyramid fit together with high precision, with joints, on average, only 0.5 millimetres (0.020\\xa0in) wide.[94] On the contrary, core blocks were only roughly shaped, with rubble inserted between larger gaps. Mortar was used to bind the outer layers together and fill gaps and joints.[6]\\nThe block height and weight tends to get progressively smaller towards the top. ', array=None, dataframe=None, blob=None, mime_type='text/plain', metadata={'title': 'https://en.wikipedia.org/wiki/Great_Pyramid_of_Giza-25'}, id_hash_keys=['text', 'array', 'dataframe', 'blob'], score=0.6287743798010431), Document(id='af033c43eacd6f93e40bd08d775618ea12e15262c03bd92213cc3c99805f17da', text='Amidst earthquakes in northern Egypt, workers (perhaps the descendants of those who served Al-Mamun) stripped away many of the outer casing stones,[70] which were said to have been carted away by Bahri Sultan An-Nasir Nasir-ad-Din al-Hasan in 1356 for use in nearby Cairo.[96]\\nMany more casing stones were removed from the site by Muhammad Ali Pasha in the early 19th century to build the upper portion of his Alabaster Mosque in Cairo.[citation needed] Later explorers reported massive piles of rubble at the base of the pyramids left over from the continuing collapse of the casing stones, which were subsequently cleared away during continuing excavations of the site. Today a few of the casing stones from the lowest course can be seen in situ on each side, with the best preserved on the north below the entrances, excavated by Vyse in 1837.\\nThe mortar was chemically analyzed[116] and contains organic inclusions (mostly charcoal), samples of which were radiocarbon dated to 2871–2604 BC.[117] It has been theorized that the mortar enabled the masons to set the stones exactly by providing a level bed.', array=None, dataframe=None, blob=None, mime_type='text/plain', metadata={'title': 'https://en.wikipedia.org/wiki/Great_Pyramid_of_Giza-31'}, id_hash_keys=['text', 'array', 'dataframe', 'blob'], score=0.6248629773412627)])]"
      ]
     },
     "execution_count": 31,
     "metadata": {},
     "output_type": "execute_result"
    }
   ],
   "source": [
    "results[\"answer_builder\"][\"answers\"]"
   ]
  },
  {
   "cell_type": "code",
   "execution_count": 36,
   "metadata": {},
   "outputs": [
    {
     "data": {
      "text/plain": [
       "'\\nYou are a helpful expert. Your answers are short and to the point. You must only use information from the given documents. Use an unbiased and journalistic tone. \\\\ \\nDo not repeat text. Always use references in the form [Source: NAME OF DOCUMENT] when using information from a document. e.g. [Source: 3], for Document[3]. The reference must only refer to the name that comes in square brackets after passage. If multiple documents are used to generate the answer, combine the names of these documents. e.g. [Source: 5, 8], for Document[5], Document[8]. Otherwise, do not use brackets in your answer and reference ONLY the name of the passage without mentioning the word passage. If the documents can\\'t answer the question or you are unsure say: \\'The answer cannot be found in the text directly, but I would recommend consulting [Source: X] for more information\\', pointing the user to the most relevant document. {new_line}These are the documents:\\\\ \\n\\n\\n[Source: https://en.wikipedia.org/wiki/Great_Pyramid_of_Giza-14]:\\nDiodorus\\'s work was inspired by historians of the past, but he also distanced himself from Herodotus, who Diodorus claims tells marvelous tales and myths.[53] Diodorus presumably drew his knowledge from the lost work of Hecataeus of Abdera,[54] and like Herodotus, he also places the builder of the pyramid, \"Chemmis,\"[55] after Ramses III.[46] According to his report, neither Chemmis (Khufu) nor Cephren (Khafre) were buried in their pyramids, but rather in secret places, for fear that the people ostensibly forced to build the structures would seek out the bodies for revenge.[56] With this assertion, Diodorus strengthened the connection between pyramid building and slavery.[57]\\nAccording to Diodorus, the cladding of the pyramid was still in excellent condition at the time, whereas the uppermost part of the pyramid was formed by a platform 6\\xa0cubits (3.1\\xa0m; 10.3\\xa0ft) high. About the construction of the pyramid he notes that it was built with the help of ramps since no lifting tools had yet been invented. Nothing was left of the ramps, as they were removed after the pyramids were completed. \\n\\n[Source: https://en.wikipedia.org/wiki/Great_Pyramid_of_Giza-12]:\\nAccordingly, his explanations present themselves as a mixture of comprehensible descriptions, personal descriptions, erroneous reports, and fantastical legends; as a result, many of the speculative errors and confusions about the monument can be traced back to Herodotus and his work.[44][45]\\nHerodotus writes that the Great Pyramid was built by Khufu (Hellenized as Cheops) who, he erroneously relays, ruled after the Ramesside Period (the 19th dynasty and the 20th dynasty).[46] Khufu was a tyrannical king, Herodotus claims, which may explain the Greek\\'s view that such buildings can only come about through cruel exploitation of the people.[44] Herodotus states that gangs of 100,000 labourers worked on the building in three-month shifts, taking 20 years to build. In the first ten years a wide causeway was erected, which, according to Herodotus, was almost as impressive as the construction of the pyramids themselves. It measured nearly 1 kilometre (0.62\\xa0mi) long and 20 yards (18.3\\xa0m) wide, and elevated to a height of 16 yards (14.6\\xa0m), consisting of stone polished and carved with figures.[47]\\nUnderground chambers were made on the hill whereon the pyramids stand. \\n\\n[Source: https://en.wikipedia.org/wiki/Colossus_of_Rhodes-12]:\\nReferences to this conception are also found in literary works. William Shakespeare\\'s Cassius in Julius Caesar (I, ii, 136–38) says of Caesar:\\n\\nWhy man, he doth bestride the narrow world\\nLike a Colossus, and we petty men\\nWalk under his huge legs and peep about\\nTo find ourselves dishonourable graves\\n\\nShakespeare alludes to the Colossus also in Troilus and Cressida (V.5) and in Henry IV, Part 1 (V.1).\\n\"The New Colossus\" (1883), a sonnet by Emma Lazarus written on a cast bronze plaque and mounted inside the pedestal of the Statue of Liberty in 1903, contrasts the latter with:\\n\\nThe brazen giant of Greek fame\\nwith conquering limbs astride from land to land\\n\\nWhile these fanciful images feed the misconception, the mechanics of the situation reveal that the Colossus could not have straddled the harbour as described in Lemprière\\'s Classical Dictionary. If the completed statue had straddled the harbour, the entire mouth of the harbour would have been effectively closed during the entirety of the construction, and the ancient Rhodians did not have the means to dredge and re-open the harbour after construction. \\n\\n[Source: https://en.wikipedia.org/wiki/Hanging_Gardens_of_Babylon-2]:\\nThese writers concern themselves with the size of the Hanging Gardens, their overall design and means of irrigation, and why they were built.\\nJosephus (c.\\u200937–100 AD) quotes a description of the gardens by Berossus, a Babylonian priest of Marduk,[6] whose writing c.\\u2009290 BC is the earliest known mention of the gardens.[5] Berossus described the reign of Nebuchadnezzar II and is the only source to credit that king with the construction of the Hanging Gardens.[12][13]\\n\\n.mw-parser-output .templatequote{overflow:hidden;margin:1em 0;padding:0 40px}.mw-parser-output .templatequote .templatequotecite{line-height:1.5em;text-align:left;padding-left:1.6em;margin-top:0}In this palace he erected very high walls, supported by stone pillars; and by planting what was called a pensile paradise, and replenishing it with all sorts of trees, he rendered the prospect an exact resemblance of a mountainous country. This he did to gratify his queen, because she had been brought up in Media, and was fond of a mountainous situation.[14]\\nHanging gardens of Semiramis, by H. Waldeck\\nDiodorus Siculus (active c.\\u200960–30 BC) seems to have consulted the 4th century BC texts of both Cleitarchus (a historian of Alexander the Great) and Ctesias of Cnidus. Diodorus ascribes the construction to a Syrian king. \\n\\n[Source: https://en.wikipedia.org/wiki/Great_Pyramid_of_Giza-62]:\\n[202]\\n\\nLooting\\nAuthors Bob Brier and Hoyt Hobbs claim that \"all the pyramids were robbed\" by the New Kingdom, when the construction of royal tombs in the Valley of the Kings began.[203][204] Joyce Tyldesley states that the Great Pyramid itself \"is known to have been opened and emptied by the Middle Kingdom\", before the Arab caliph Al-Ma\\'mun entered the pyramid around 820 AD.[136]\\nI. E. S. Edwards discusses Strabo\\'s mention that the pyramid \"a little way up one side has a stone that may be taken out, which being raised up there is a sloping passage to the foundations\". Edwards suggested that the pyramid was entered by robbers after the end of the Old Kingdom and sealed and then reopened more than once until Strabo\\'s door was added. He adds: \"If this highly speculative surmise be correct, it is also necessary to assume either that the existence of the door was forgotten or that the entrance was again blocked with facing stones\", in order to explain why al-Ma\\'mun could not find the entrance.\\n\\n[Source: https://en.wikipedia.org/wiki/Colossus_of_Rhodes-0]:\\nThe Colossus of Rhodes (Ancient Greek: ὁ Κολοσσὸς Ῥόδιος, romanized:\\xa0ho Kolossòs Rhódios Greek: Κολοσσός της Ρόδου, romanized:\\xa0Kolossós tes Rhódou)[a] was a statue of the Greek sun-god Helios, erected in the city of Rhodes, on the Greek island of the same name, by Chares of Lindos in 280\\xa0BC. One of the Seven Wonders of the Ancient World, it was constructed to celebrate the successful defence of Rhodes city against an attack by Demetrius Poliorcetes, who had besieged it for a year with a large army and navy.\\nAccording to most contemporary descriptions, the Colossus stood approximately 70 cubits, or 33 metres (108 feet) high – approximately the height of the modern Statue of Liberty from feet to crown – making it the tallest statue in the ancient world.[2] It collapsed during the earthquake of 226 BC, although parts of it were preserved. In accordance with a certain oracle, the Rhodians did not build it again.[3] John Malalas wrote that Hadrian in his reign re-erected the Colossus,[4] but he was mistaken.[5] According to the Suda, the Rhodians were called Colossaeans (Κολοσσαεῖς), because they erected the statue on the island.\\n\\n[Source: https://en.wikipedia.org/wiki/Colossus_of_Rhodes-7]:\\nIt is remarkable also for its good order, and for its careful attention to the administration of affairs of state in general; and in particular to that of naval affairs, whereby it held the mastery of the sea for a long time and overthrew the business of piracy, and became a friend to the Romans and to all kings who favoured both the Romans and the Greeks. Consequently, it not only has remained autonomous but also has been adorned with many votive offerings, which for the most part are to be found in the Dionysium and the gymnasium, but partly in other places. The best of these are, first, the Colossus of Helius, of which the author of the iambic verse says, \"seven times ten cubits in height, the work of Chares the Lindian\"; but it now lies on the ground, having been thrown down by an earthquake and broken at the knees. In accordance with a certain oracle, the people did not raise it again. This, then, is the most excellent of the votive offerings (at any rate, it is by common agreement one of the Seven Wonders).\\n\\n[Source: https://en.wikipedia.org/wiki/Colossus_of_Rhodes-5]:\\nTo you, O Sun, the people of Dorian Rhodes set up this bronze statue reaching to Olympus, when they had pacified the waves of war and crowned their city with the spoils taken from the enemy. Not only over the seas but also on land did they kindle the lovely torch of freedom and independence. For to the descendants of Herakles belongs dominion over sea and land.\\nCollapse (226\\xa0BC)[edit]\\nArtist\\'s conception from the Grolier Society\\'s 1911 Book of Knowledge\\nFurther information: 226 BC Rhodes earthquake\\nThe statue stood for 54 years until a 226\\xa0BC earthquake caused significant damage to large portions of Rhodes, including the harbour and commercial buildings, which were destroyed.[19] The statue snapped at the knees and fell over onto land. Ptolemy III offered to pay for the reconstruction of the statue, but the Oracle of Delphi made the Rhodians fear that they had offended Helios, and they declined to rebuild it.[citation needed]\\n\\nFallen state (226\\xa0BC to 653\\xa0AD)[edit]\\nThe remains lay on the ground for over 800 years, and even broken, they were so impressive that many travelled to see them.\\n\\n\\n[Source: https://en.wikipedia.org/wiki/Great_Pyramid_of_Giza-25]:\\n[91]\\nA construction management study conducted in 1999, in association with Mark Lehner and other Egyptologists, had estimated that the total project required an average workforce of about 13,200 people and a peak workforce of roughly 40,000.[92]\\n\\nSurveys and design\\nComparison of approximate profiles of the Great Pyramid of Giza with some notable pyramidal or near-pyramidal buildings. Dotted lines indicate original heights, where data is available. In its\\xa0SVG\\xa0file, hover over a pyramid to highlight and click for its article.\\nThe first precise measurements of the pyramid were made by Egyptologist Flinders Petrie in 1880–1882, published as The Pyramids and Temples of Gizeh.[93] Many of the casing-stones and inner chamber blocks of the Great Pyramid fit together with high precision, with joints, on average, only 0.5 millimetres (0.020\\xa0in) wide.[94] On the contrary, core blocks were only roughly shaped, with rubble inserted between larger gaps. Mortar was used to bind the outer layers together and fill gaps and joints.[6]\\nThe block height and weight tends to get progressively smaller towards the top. \\n\\n[Source: https://en.wikipedia.org/wiki/Great_Pyramid_of_Giza-31]:\\nAmidst earthquakes in northern Egypt, workers (perhaps the descendants of those who served Al-Mamun) stripped away many of the outer casing stones,[70] which were said to have been carted away by Bahri Sultan An-Nasir Nasir-ad-Din al-Hasan in 1356 for use in nearby Cairo.[96]\\nMany more casing stones were removed from the site by Muhammad Ali Pasha in the early 19th century to build the upper portion of his Alabaster Mosque in Cairo.[citation needed] Later explorers reported massive piles of rubble at the base of the pyramids left over from the continuing collapse of the casing stones, which were subsequently cleared away during continuing excavations of the site. Today a few of the casing stones from the lowest course can be seen in situ on each side, with the best preserved on the north below the entrances, excavated by Vyse in 1837.\\nThe mortar was chemically analyzed[116] and contains organic inclusions (mostly charcoal), samples of which were radiocarbon dated to 2871–2604 BC.[117] It has been theorized that the mortar enabled the masons to set the stones exactly by providing a level bed.\\n\\n{new_line}Question: Why did people build pyramids?{new_line}Answer:{new_line}'"
      ]
     },
     "execution_count": 36,
     "metadata": {},
     "output_type": "execute_result"
    }
   ],
   "source": [
    "results[\"prompt_inspector\"][\"prompt\"]"
   ]
  },
  {
   "cell_type": "code",
   "execution_count": null,
   "metadata": {},
   "outputs": [],
   "source": []
  }
 ],
 "metadata": {
  "kernelspec": {
   "display_name": "assembly-ai",
   "language": "python",
   "name": "python3"
  },
  "language_info": {
   "codemirror_mode": {
    "name": "ipython",
    "version": 3
   },
   "file_extension": ".py",
   "mimetype": "text/x-python",
   "name": "python",
   "nbconvert_exporter": "python",
   "pygments_lexer": "ipython3",
   "version": "3.10.13"
  },
  "orig_nbformat": 4
 },
 "nbformat": 4,
 "nbformat_minor": 2
}
